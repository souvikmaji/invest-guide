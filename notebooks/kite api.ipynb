{
 "cells": [
  {
   "cell_type": "code",
   "execution_count": null,
   "id": "4eb4c0b2",
   "metadata": {},
   "outputs": [],
   "source": [
    "import logging\n",
    "from kiteconnect import KiteConnect\n",
    "\n",
    "logging.basicConfig(level=logging.DEBUG)\n",
    "\n",
    "kite = KiteConnect(api_key=\"\")"
   ]
  },
  {
   "cell_type": "code",
   "execution_count": null,
   "id": "9b6b3b6c",
   "metadata": {},
   "outputs": [],
   "source": [
    "kite.login_url()"
   ]
  },
  {
   "cell_type": "code",
   "execution_count": null,
   "id": "d9ec48cc",
   "metadata": {},
   "outputs": [],
   "source": [
    "\n",
    "\n",
    "# Redirect the user to the login url obtained\n",
    "# from kite.login_url(), and receive the request_token\n",
    "# from the registered redirect url after the login flow.\n",
    "# Once you have the request_token, obtain the access_token\n",
    "# as follows.\n",
    "\n",
    "data = kite.generate_session(\"\", api_secret=\"your_secret\")\n",
    "kite.set_access_token(data[\"access_token\"])\n",
    "\n",
    "# Place an order\n",
    "try:\n",
    "    order_id = kite.place_order(tradingsymbol=\"INFY\",\n",
    "                                exchange=kite.EXCHANGE_NSE,\n",
    "                                transaction_type=kite.TRANSACTION_TYPE_BUY,\n",
    "                                quantity=1,\n",
    "                                variety=kite.VARIETY_AMO,\n",
    "                                order_type=kite.ORDER_TYPE_MARKET,\n",
    "                                product=kite.PRODUCT_CNC,\n",
    "                                validity=kite.VALIDITY_DAY)\n",
    "\n",
    "    logging.info(\"Order placed. ID is: {}\".format(order_id))\n",
    "except Exception as e:\n",
    "    logging.info(\"Order placement failed: {}\".format(e.message))\n",
    "\n",
    "# Fetch all orders\n",
    "kite.orders()\n",
    "\n",
    "# Get instruments\n",
    "kite.instruments()\n",
    "\n",
    "# Place an mutual fund order\n",
    "kite.place_mf_order(\n",
    "    tradingsymbol=\"INF090I01239\",\n",
    "    transaction_type=kite.TRANSACTION_TYPE_BUY,\n",
    "    amount=5000,\n",
    "    tag=\"mytag\"\n",
    ")\n",
    "\n",
    "# Cancel a mutual fund order\n",
    "kite.cancel_mf_order(order_id=\"order_id\")\n",
    "\n",
    "# Get mutual fund instruments\n",
    "kite.mf_instruments()"
   ]
  },
  {
   "cell_type": "code",
   "execution_count": null,
   "id": "62c8928f",
   "metadata": {},
   "outputs": [
    {
     "name": "stdout",
     "output_type": "stream",
     "text": [
      "Serving HTTP on :: port 8000 (http://[::]:8000/) ...\r\n"
     ]
    }
   ],
   "source": [
    "!python3 -m http.server"
   ]
  },
  {
   "cell_type": "code",
   "execution_count": null,
   "id": "e76122af",
   "metadata": {},
   "outputs": [],
   "source": []
  }
 ],
 "metadata": {
  "kernelspec": {
   "display_name": "Python 3 (ipykernel)",
   "language": "python",
   "name": "python3"
  },
  "language_info": {
   "codemirror_mode": {
    "name": "ipython",
    "version": 3
   },
   "file_extension": ".py",
   "mimetype": "text/x-python",
   "name": "python",
   "nbconvert_exporter": "python",
   "pygments_lexer": "ipython3",
   "version": "3.9.10"
  }
 },
 "nbformat": 4,
 "nbformat_minor": 5
}
