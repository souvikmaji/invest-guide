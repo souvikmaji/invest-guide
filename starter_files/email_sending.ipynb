{
 "cells": [
  {
   "cell_type": "code",
   "execution_count": 14,
   "id": "00761561",
   "metadata": {},
   "outputs": [],
   "source": [
    "# This address must be verified with Amazon SES.\n",
    "SENDER = \"Trading Alerts <souvikmaji94+aws@gmail.com>\""
   ]
  },
  {
   "cell_type": "code",
   "execution_count": 10,
   "id": "fffbcc93",
   "metadata": {},
   "outputs": [],
   "source": [
    "# If your account is still in the sandbox, this address must be verified.\n",
    "RECIPIENT = \"souvikmaji94@gmail.com\""
   ]
  },
  {
   "cell_type": "code",
   "execution_count": 7,
   "id": "bc5ddfb0",
   "metadata": {},
   "outputs": [],
   "source": [
    "# The character encoding for the email.\n",
    "CHARSET = \"UTF-8\""
   ]
  },
  {
   "cell_type": "code",
   "execution_count": 8,
   "id": "40d4a5a1",
   "metadata": {},
   "outputs": [],
   "source": [
    "SUBJECT = \"Amazon SES Test (SDK for Python)\"\n",
    "\n",
    "# The email body for recipients with non-HTML email clients.\n",
    "BODY_TEXT = (\"Amazon SES Test (Python)\\r\\n\"\n",
    "             \"This email was sent with Amazon SES using the \"\n",
    "             \"AWS SDK for Python (Boto).\"\n",
    "            )\n",
    "            \n",
    "# The HTML body of the email.\n",
    "BODY_HTML = \"\"\"<html>\n",
    "<head></head>\n",
    "<body>\n",
    "  <h1>Amazon SES Test (SDK for Python)</h1>\n",
    "  <p>This email was sent with\n",
    "    <a href='https://aws.amazon.com/ses/'>Amazon SES</a> using the\n",
    "    <a href='https://aws.amazon.com/sdk-for-python/'>\n",
    "      AWS SDK for Python (Boto)</a>.</p>\n",
    "</body>\n",
    "</html>\n",
    "            \"\"\"            \n"
   ]
  },
  {
   "cell_type": "code",
   "execution_count": 15,
   "id": "ec613a47",
   "metadata": {},
   "outputs": [
    {
     "name": "stdout",
     "output_type": "stream",
     "text": [
      "Email sent! Message ID:\n",
      "010901800cf8e155-c8dcdee9-e75f-4c25-85ff-3be92c31bf80-000000\n"
     ]
    }
   ],
   "source": [
    "# Create a new SES resource and specify a region.\n",
    "client = boto3.client('ses')\n",
    "\n",
    "# Try to send the email.\n",
    "try:\n",
    "    #Provide the contents of the email.\n",
    "    response = client.send_email(\n",
    "        Destination={\n",
    "            'ToAddresses': [\n",
    "                RECIPIENT,\n",
    "            ],\n",
    "        },\n",
    "        Message={\n",
    "            'Body': {\n",
    "                'Html': {\n",
    "                    'Charset': CHARSET,\n",
    "                    'Data': BODY_HTML,\n",
    "                },\n",
    "                'Text': {\n",
    "                    'Charset': CHARSET,\n",
    "                    'Data': BODY_TEXT,\n",
    "                },\n",
    "            },\n",
    "            'Subject': {\n",
    "                'Charset': CHARSET,\n",
    "                'Data': SUBJECT,\n",
    "            },\n",
    "        },\n",
    "        Source=SENDER,\n",
    "    )\n",
    "# Display an error if something goes wrong.\t\n",
    "except ClientError as e:\n",
    "    print(e.response['Error']['Message'])\n",
    "else:\n",
    "    print(\"Email sent! Message ID:\"),\n",
    "    print(response['MessageId'])"
   ]
  },
  {
   "cell_type": "code",
   "execution_count": null,
   "id": "7a5e362e",
   "metadata": {},
   "outputs": [],
   "source": []
  }
 ],
 "metadata": {
  "kernelspec": {
   "display_name": "Python 3 (ipykernel)",
   "language": "python",
   "name": "python3"
  },
  "language_info": {
   "codemirror_mode": {
    "name": "ipython",
    "version": 3
   },
   "file_extension": ".py",
   "mimetype": "text/x-python",
   "name": "python",
   "nbconvert_exporter": "python",
   "pygments_lexer": "ipython3",
   "version": "3.9.10"
  }
 },
 "nbformat": 4,
 "nbformat_minor": 5
}
