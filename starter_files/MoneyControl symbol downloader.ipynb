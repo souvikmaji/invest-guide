{
 "cells": [
  {
   "cell_type": "markdown",
   "id": "0c86a8ee",
   "metadata": {},
   "source": [
    "# MC symbol downloader"
   ]
  },
  {
   "cell_type": "markdown",
   "id": "3b9bf9b6",
   "metadata": {},
   "source": [
    "import modules"
   ]
  },
  {
   "cell_type": "code",
   "execution_count": 33,
   "id": "7c74c750",
   "metadata": {},
   "outputs": [],
   "source": [
    "import requests\n",
    "from bs4 import BeautifulSoup\n",
    "import pandas as pd"
   ]
  },
  {
   "cell_type": "markdown",
   "id": "2e25be54",
   "metadata": {},
   "source": [
    "Money control index constiuents page link"
   ]
  },
  {
   "cell_type": "code",
   "execution_count": 64,
   "id": "a89d9f3a",
   "metadata": {},
   "outputs": [],
   "source": [
    "url = 'https://www.moneycontrol.com/stocks/marketstats/indexcomp.php?optex=BSE&opttopic=indexcomp&index=67'"
   ]
  },
  {
   "cell_type": "markdown",
   "id": "e4ee443d",
   "metadata": {},
   "source": [
    "download html"
   ]
  },
  {
   "cell_type": "code",
   "execution_count": 65,
   "id": "e5a5bf71",
   "metadata": {},
   "outputs": [],
   "source": [
    "r = requests.get(url)\n",
    "  \n",
    "soup = BeautifulSoup(r.content, 'html5lib') # If this line causes an error, run 'pip install html5lib' or install html5lib\n"
   ]
  },
  {
   "cell_type": "code",
   "execution_count": 66,
   "id": "22d0111f",
   "metadata": {},
   "outputs": [],
   "source": [
    "table = soup.find('table',  attrs = {'class': 'tbldata14 bdrtpg'})"
   ]
  },
  {
   "cell_type": "markdown",
   "id": "7f3d679c",
   "metadata": {},
   "source": [
    "create dataaframe"
   ]
  },
  {
   "cell_type": "code",
   "execution_count": 67,
   "id": "d6704ba4",
   "metadata": {},
   "outputs": [
    {
     "data": {
      "text/html": [
       "<div>\n",
       "<style scoped>\n",
       "    .dataframe tbody tr th:only-of-type {\n",
       "        vertical-align: middle;\n",
       "    }\n",
       "\n",
       "    .dataframe tbody tr th {\n",
       "        vertical-align: top;\n",
       "    }\n",
       "\n",
       "    .dataframe thead th {\n",
       "        text-align: right;\n",
       "    }\n",
       "</style>\n",
       "<table border=\"1\" class=\"dataframe\">\n",
       "  <thead>\n",
       "    <tr style=\"text-align: right;\">\n",
       "      <th></th>\n",
       "      <th>Name</th>\n",
       "      <th>Symbol</th>\n",
       "      <th>URL</th>\n",
       "    </tr>\n",
       "  </thead>\n",
       "  <tbody>\n",
       "    <tr>\n",
       "      <th>0</th>\n",
       "      <td>3M India</td>\n",
       "      <td>MI42</td>\n",
       "      <td>/india/stockpricequote/diversified/3mindia/MI42</td>\n",
       "    </tr>\n",
       "    <tr>\n",
       "      <th>1</th>\n",
       "      <td>5paisa Capita</td>\n",
       "      <td>C98</td>\n",
       "      <td>/india/stockpricequote/miscellaneous/5paisacap...</td>\n",
       "    </tr>\n",
       "    <tr>\n",
       "      <th>2</th>\n",
       "      <td>63 Moons Tech</td>\n",
       "      <td>FT02</td>\n",
       "      <td>/india/stockpricequote/computerssoftware/63moo...</td>\n",
       "    </tr>\n",
       "    <tr>\n",
       "      <th>3</th>\n",
       "      <td>Aarti Drugs</td>\n",
       "      <td>AD</td>\n",
       "      <td>/india/stockpricequote/pharmaceuticals/aartidr...</td>\n",
       "    </tr>\n",
       "    <tr>\n",
       "      <th>4</th>\n",
       "      <td>Aarti Ind</td>\n",
       "      <td>AI45</td>\n",
       "      <td>/india/stockpricequote/chemicals/aartiindustri...</td>\n",
       "    </tr>\n",
       "    <tr>\n",
       "      <th>...</th>\n",
       "      <td>...</td>\n",
       "      <td>...</td>\n",
       "      <td>...</td>\n",
       "    </tr>\n",
       "    <tr>\n",
       "      <th>1025</th>\n",
       "      <td>Zee Media</td>\n",
       "      <td>ZN</td>\n",
       "      <td>/india/stockpricequote/mediaentertainment/zeem...</td>\n",
       "    </tr>\n",
       "    <tr>\n",
       "      <th>1026</th>\n",
       "      <td>Zen Tech</td>\n",
       "      <td>ZT01</td>\n",
       "      <td>/india/stockpricequote/defence/zentechnologies...</td>\n",
       "    </tr>\n",
       "    <tr>\n",
       "      <th>1027</th>\n",
       "      <td>Zensar Tech</td>\n",
       "      <td>ZT02</td>\n",
       "      <td>/india/stockpricequote/computerssoftware/zensa...</td>\n",
       "    </tr>\n",
       "    <tr>\n",
       "      <th>1028</th>\n",
       "      <td>Zuari Agro Chem</td>\n",
       "      <td>ZAC</td>\n",
       "      <td>/india/stockpricequote/fertilisers/zuariagroch...</td>\n",
       "    </tr>\n",
       "    <tr>\n",
       "      <th>1029</th>\n",
       "      <td>Zydus Wellness</td>\n",
       "      <td>ZW01</td>\n",
       "      <td>/india/stockpricequote/vanaspatioils/zyduswell...</td>\n",
       "    </tr>\n",
       "  </tbody>\n",
       "</table>\n",
       "<p>1030 rows × 3 columns</p>\n",
       "</div>"
      ],
      "text/plain": [
       "                 Name Symbol  \\\n",
       "0            3M India   MI42   \n",
       "1       5paisa Capita    C98   \n",
       "2       63 Moons Tech   FT02   \n",
       "3         Aarti Drugs     AD   \n",
       "4           Aarti Ind   AI45   \n",
       "...               ...    ...   \n",
       "1025        Zee Media     ZN   \n",
       "1026         Zen Tech   ZT01   \n",
       "1027      Zensar Tech   ZT02   \n",
       "1028  Zuari Agro Chem    ZAC   \n",
       "1029   Zydus Wellness   ZW01   \n",
       "\n",
       "                                                    URL  \n",
       "0       /india/stockpricequote/diversified/3mindia/MI42  \n",
       "1     /india/stockpricequote/miscellaneous/5paisacap...  \n",
       "2     /india/stockpricequote/computerssoftware/63moo...  \n",
       "3     /india/stockpricequote/pharmaceuticals/aartidr...  \n",
       "4     /india/stockpricequote/chemicals/aartiindustri...  \n",
       "...                                                 ...  \n",
       "1025  /india/stockpricequote/mediaentertainment/zeem...  \n",
       "1026  /india/stockpricequote/defence/zentechnologies...  \n",
       "1027  /india/stockpricequote/computerssoftware/zensa...  \n",
       "1028  /india/stockpricequote/fertilisers/zuariagroch...  \n",
       "1029  /india/stockpricequote/vanaspatioils/zyduswell...  \n",
       "\n",
       "[1030 rows x 3 columns]"
      ]
     },
     "execution_count": 67,
     "metadata": {},
     "output_type": "execute_result"
    }
   ],
   "source": [
    "columns = ['Name', 'Symbol', 'URL']\n",
    "df = pd.DataFrame(columns = columns)\n",
    "\n",
    "for row in table.tbody.findAll('tr'):\n",
    "    tds = row.findAll('td')\n",
    "    if len(tds) > 0:\n",
    "        a = tds[0].findAll('a')[0]\n",
    "        href = a['href']\n",
    "        df = df.append(pd.Series([a.text, href.rsplit('/', 1)[1], href], index=columns), ignore_index=True)\n",
    "\n",
    "df"
   ]
  },
  {
   "cell_type": "markdown",
   "id": "baa92d30",
   "metadata": {},
   "source": [
    "save to csv\n"
   ]
  },
  {
   "cell_type": "code",
   "execution_count": 69,
   "id": "6237a3f4",
   "metadata": {},
   "outputs": [],
   "source": [
    "df.to_csv('mc_symbols.csv', index=False)"
   ]
  }
 ],
 "metadata": {
  "kernelspec": {
   "display_name": "Python 3 (ipykernel)",
   "language": "python",
   "name": "python3"
  },
  "language_info": {
   "codemirror_mode": {
    "name": "ipython",
    "version": 3
   },
   "file_extension": ".py",
   "mimetype": "text/x-python",
   "name": "python",
   "nbconvert_exporter": "python",
   "pygments_lexer": "ipython3",
   "version": "3.9.10"
  }
 },
 "nbformat": 4,
 "nbformat_minor": 5
}
